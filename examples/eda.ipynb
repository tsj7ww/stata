{
 "cells": [
  {
   "cell_type": "code",
   "execution_count": 1,
   "id": "7da7a2c4-1a4c-4494-b2f7-46e999461061",
   "metadata": {},
   "outputs": [],
   "source": [
    "import sys\n",
    "sys.path.append('../src')"
   ]
  },
  {
   "cell_type": "code",
   "execution_count": 8,
   "id": "31e4236e-fa2e-4a10-8724-d9b86e133536",
   "metadata": {},
   "outputs": [],
   "source": [
    "from predml.models import ClassificationModel"
   ]
  },
  {
   "cell_type": "code",
   "execution_count": null,
   "id": "b9a17906-7a3b-4f27-9f66-35a538b260dc",
   "metadata": {},
   "outputs": [],
   "source": []
  },
  {
   "cell_type": "code",
   "execution_count": 9,
   "id": "98872e0d-bed4-4a5a-a992-865abfe25de2",
   "metadata": {},
   "outputs": [],
   "source": [
    "cm = ClassificationModel"
   ]
  },
  {
   "cell_type": "code",
   "execution_count": null,
   "id": "fd12ca20-71f6-4f9e-8868-4e0f0afb9b8e",
   "metadata": {},
   "outputs": [],
   "source": []
  },
  {
   "cell_type": "code",
   "execution_count": 13,
   "id": "063e9fb9-a2e4-487a-98a1-cdf18e8a882a",
   "metadata": {},
   "outputs": [
    {
     "data": {
      "text/plain": [
       "\"<class 'predml.models.classification.ClassificationModel'>\""
      ]
     },
     "execution_count": 13,
     "metadata": {},
     "output_type": "execute_result"
    }
   ],
   "source": [
    "str(cm)"
   ]
  },
  {
   "cell_type": "code",
   "execution_count": null,
   "id": "87d5cda4-8c36-4199-aace-13ba728744e1",
   "metadata": {},
   "outputs": [],
   "source": []
  },
  {
   "cell_type": "code",
   "execution_count": null,
   "id": "43bcd13e-3fb8-4a7f-886f-13314dbccfdf",
   "metadata": {},
   "outputs": [],
   "source": []
  },
  {
   "cell_type": "code",
   "execution_count": null,
   "id": "82871102-9e39-4790-80f2-b4587c0e68ce",
   "metadata": {},
   "outputs": [],
   "source": []
  },
  {
   "cell_type": "code",
   "execution_count": null,
   "id": "8d0679d2-6921-4314-b34c-f8ef78279c3a",
   "metadata": {},
   "outputs": [],
   "source": []
  },
  {
   "cell_type": "code",
   "execution_count": null,
   "id": "bd11af97-ae62-4239-aed4-ef26198601be",
   "metadata": {},
   "outputs": [],
   "source": []
  },
  {
   "cell_type": "code",
   "execution_count": null,
   "id": "6713019c-e0ba-4dbe-bf00-705c38978ba0",
   "metadata": {},
   "outputs": [],
   "source": []
  },
  {
   "cell_type": "code",
   "execution_count": null,
   "id": "cce9e674-9472-4974-add5-cf41629b992b",
   "metadata": {},
   "outputs": [],
   "source": []
  }
 ],
 "metadata": {
  "kernelspec": {
   "display_name": "Python 3 (ipykernel)",
   "language": "python",
   "name": "python3"
  },
  "language_info": {
   "codemirror_mode": {
    "name": "ipython",
    "version": 3
   },
   "file_extension": ".py",
   "mimetype": "text/x-python",
   "name": "python",
   "nbconvert_exporter": "python",
   "pygments_lexer": "ipython3",
   "version": "3.10.16"
  }
 },
 "nbformat": 4,
 "nbformat_minor": 5
}
